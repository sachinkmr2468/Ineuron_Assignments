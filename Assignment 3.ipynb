{
 "cells": [
  {
   "cell_type": "markdown",
   "metadata": {},
   "source": [
    "# Assignment 3"
   ]
  },
  {
   "cell_type": "code",
   "execution_count": 1,
   "metadata": {},
   "outputs": [],
   "source": [
    "#1) Why are functions advantageous to have in your programs?\n",
    "\n",
    "#Ans) - Below are the advantangeous of using function in our programs:\n",
    "\n",
    "#     Reducing duplication of code.\n",
    "#    Decomposing complex problems into simpler pieces.\n",
    "#    Improving clarity of the code.\n",
    "#    Reuse of code.\n",
    "#    Information hiding."
   ]
  },
  {
   "cell_type": "code",
   "execution_count": 2,
   "metadata": {},
   "outputs": [],
   "source": [
    "#2) When does the code in a function run: when it's specified or when it's called?\n",
    "\n",
    "#Ans) The code inside function only runs when we call the function."
   ]
  },
  {
   "cell_type": "code",
   "execution_count": 3,
   "metadata": {},
   "outputs": [],
   "source": [
    "#3) What statement creates a function?\n",
    "\n",
    "# Ans) def keywork is the statement used to define a function."
   ]
  },
  {
   "cell_type": "code",
   "execution_count": 4,
   "metadata": {},
   "outputs": [],
   "source": [
    "#4) What is the difference between a function and a function call?\n",
    "\n",
    "#Ans)A function is a block of code which only runs when it is called while on the other hand Using a function to do a particular task any point in program is called as function call.\n",
    "# so the difference we can say -\n",
    "#A function is procedure to achieve a particular result while function call is using this function to achive that task."
   ]
  },
  {
   "cell_type": "code",
   "execution_count": 6,
   "metadata": {},
   "outputs": [],
   "source": [
    "#5) How many global scopes are there in a Python program? How many local scopes?\n",
    "\n",
    "#Ans) Local Scope A variable created inside a function belongs to the local scope of that function, and can only be used inside that function.\n",
    "#ex def myfunc():\n",
    "#  x = 300(x is local variable hence its local scopes)\n",
    "#  print(x)\n",
    "\n",
    "#myfunc()\n",
    "#A variable created in the main body of the Python code is a global variable and belongs to the global scope.\n",
    "#Global variables are available from within any scope, global and local.\n",
    "#ex x = 300(x is global variable hence comes under global scope)\n",
    "\n",
    "#def myfunc():\n",
    "#  print(x)\n",
    "\n",
    "#myfunc()\n",
    "\n",
    "#print(x)"
   ]
  },
  {
   "cell_type": "code",
   "execution_count": 7,
   "metadata": {},
   "outputs": [],
   "source": [
    "#6) What happens to variables in a local scope when the function call returns?\n",
    "\n",
    "#Ans)Local Scope A variable created inside a function belongs to the local scope of that function, and can only be used inside that function.\n",
    "#ex- def myfunc():\n",
    "#  x = 300(x is local variable hence its local scopes)\n",
    "#  print(x)\n",
    "# Local variable once defined inside the function , it can only be used within the fucntion we cant use the local variable\n",
    "#outside of fucntion"
   ]
  },
  {
   "cell_type": "code",
   "execution_count": 13,
   "metadata": {},
   "outputs": [
    {
     "name": "stdout",
     "output_type": "stream",
     "text": [
      "12\n"
     ]
    }
   ],
   "source": [
    "#7) What is the concept of a return value? Is it possible to have a return value in an expression?\n",
    "\n",
    "# Ans) Return help to return values which can be used further in our programe and yes it possible to return a value. \n",
    "# please check the below example\n",
    "def addition(x,y):\n",
    "    z = x + y\n",
    "    return z\n",
    "\n",
    "summation = addition(2,4)\n",
    "mux = summation * 2\n",
    "print(mux)\n",
    "\n",
    "# Here the values returned from return Z is stored in variable summation which is used further in the next expression.\n",
    "# also the data type of return z will be same as the data type of x and y variable which is int.\n"
   ]
  },
  {
   "cell_type": "code",
   "execution_count": 14,
   "metadata": {},
   "outputs": [],
   "source": [
    "#8) If a function does not have a return statement, what is the return value of a call to that function?\n",
    "\n",
    "# Ans)If no return statement appears in a function definition, control automatically returns to the calling function after the last statement of the called function is executed\n",
    "# In other words a function without an explicit return statement returns None . In the case of no arguments and no return value,"
   ]
  },
  {
   "cell_type": "code",
   "execution_count": 15,
   "metadata": {},
   "outputs": [],
   "source": [
    "#9) How do you make a function variable refer to the global variable?\n",
    "\n",
    "#Ans)Normally, when you create a variable inside a function, that variable is local, and can only be used inside that function. \n",
    "#To create a global variable inside a function, you can use the global keyword."
   ]
  },
  {
   "cell_type": "code",
   "execution_count": 16,
   "metadata": {},
   "outputs": [],
   "source": [
    "# 10)What is the data type of None?\n",
    "\n",
    "# Ans)None is used to define a null value. It is not the same as an empty string, False, or a zero.\n",
    "#It is a data type of the class NoneType object. \n",
    "#Assigning a value of None to a variable is one way to reset it to its original, empty state"
   ]
  },
  {
   "cell_type": "code",
   "execution_count": 17,
   "metadata": {},
   "outputs": [],
   "source": [
    "#11) What does the sentence import areallyourpetsnamederic do?\n",
    "\n",
    "#Ans)  That import statement imports a module named areallyourpetsnamederic, by the way its not a real python module"
   ]
  },
  {
   "cell_type": "code",
   "execution_count": 18,
   "metadata": {},
   "outputs": [],
   "source": [
    "#12)  If you had a bacon() feature in a spam module, what would you call it after importing spam?\n",
    "\n",
    "#Ans) This function can be called with spam. bacon()."
   ]
  },
  {
   "cell_type": "code",
   "execution_count": 19,
   "metadata": {},
   "outputs": [],
   "source": [
    "#13) What can you do to save a programme from crashing if it encounters an error?\n",
    "\n",
    "#Ans) If an error occurs in a program, we don't want the program to unexpectedly crash on the user. \n",
    "#Instead, error handling can be used to notify the user of why the error occurred and gracefully exit the process that caused the error."
   ]
  },
  {
   "cell_type": "code",
   "execution_count": null,
   "metadata": {},
   "outputs": [],
   "source": [
    "#14) What is the purpose of the try clause? What is the purpose of the except clause?\n",
    "\n",
    "#Ans) In the try clause, all statements are executed until an exception is encountered. except is used to catch and handle the exception(s) that are encountered in the try clause\n",
    "#else lets you code sections that should run only when no exceptions are encountered in the try clause."
   ]
  }
 ],
 "metadata": {
  "kernelspec": {
   "display_name": "Python 3",
   "language": "python",
   "name": "python3"
  },
  "language_info": {
   "codemirror_mode": {
    "name": "ipython",
    "version": 3
   },
   "file_extension": ".py",
   "mimetype": "text/x-python",
   "name": "python",
   "nbconvert_exporter": "python",
   "pygments_lexer": "ipython3",
   "version": "3.8.5"
  }
 },
 "nbformat": 4,
 "nbformat_minor": 4
}
