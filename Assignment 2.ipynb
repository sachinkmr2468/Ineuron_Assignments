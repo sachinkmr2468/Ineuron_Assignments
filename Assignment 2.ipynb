{
 "cells": [
  {
   "cell_type": "markdown",
   "metadata": {},
   "source": [
    "# Assignment 2"
   ]
  },
  {
   "cell_type": "code",
   "execution_count": null,
   "metadata": {},
   "outputs": [],
   "source": [
    "#1.)What are the two values of the Boolean data type? How do you write them?\n",
    "\n",
    "#Ans)The 2 values of Boolean data type are True and False, we simply write True and False for using it.\n",
    "#True = 1 and False = 0\n"
   ]
  },
  {
   "cell_type": "code",
   "execution_count": 2,
   "metadata": {},
   "outputs": [],
   "source": [
    "#2) What are the three different types of Boolean operators?\n",
    "\n",
    "#Ans) The three different types of Boolean operators are:\n",
    "# AND operator(&& or 'and')\n",
    "# OR operator (|| or 'or')\n",
    "# NOT operator (not)"
   ]
  },
  {
   "cell_type": "code",
   "execution_count": 5,
   "metadata": {},
   "outputs": [],
   "source": [
    "#3) 3. Make a list of each Boolean operator's truth tables (i.e. every possible combination of Boolean values for the operator and what it evaluate ).\n",
    "# ANS) Truth tables are below:\n",
    "# OR operator - 0 1 = 1\n",
    "#                1 0 = 1\n",
    "#                0 0 = 0\n",
    "#                1 1 = 1\n",
    "            \n",
    "#AND opeator - 0 1 = 0\n",
    "#                1 0 = 0\n",
    "#                1 1 = 1\n",
    "#                0 0 = 0\n",
    "            \n",
    "#NOT operator - 0 = 1\n",
    "#                1 = 0\n",
    "                "
   ]
  },
  {
   "cell_type": "code",
   "execution_count": 6,
   "metadata": {},
   "outputs": [],
   "source": [
    "# 4) What are the values of the following expressions?\n",
    "\n",
    "# Ans) (5 > 4) and (3 == 5) - False\n",
    "# not (5 > 4) - False\n",
    "# (5 > 4) or (3 == 5) - True\n",
    "# not ((5 > 4) or (3 == 5)) - False\n",
    "# (True and True) and (True == False) - False\n",
    "# (not False) or (not True) - True"
   ]
  },
  {
   "cell_type": "code",
   "execution_count": 12,
   "metadata": {},
   "outputs": [],
   "source": [
    "# 5) What are the six comparison operators?\n",
    "\n",
    "# Ans) The six comparison operators are below:\n",
    "# Operator     Name\n",
    "# ==          Equal\n",
    "#!=          Not equal\n",
    "#>           Greater than\n",
    "#<           Less than\n",
    "#>=          Greater than or equal to\n",
    "#<=          Less than or equal to"
   ]
  },
  {
   "cell_type": "code",
   "execution_count": 13,
   "metadata": {},
   "outputs": [],
   "source": [
    "#6) How do you tell the difference between the equal to and assignment operators?\n",
    "#Describe a condition and when you would use one.\n",
    "\n",
    "# Ans) = (Assignment) - It is an assignment operator.\n",
    "#                       It is used for assigning a value to the variable\n",
    "#                        Constant term cannot be placed on left hand side.\n",
    "#                       Example: 1=x; is invalid.a = 10;\n",
    "#                        b = 20;\n",
    "#                        ch = 'y';\n",
    "# == (Equal to)-         It is a relational or comparison operator.\n",
    "#                        It is used for comparing two values. It returns 1 if both the values are equal otherwise returns 0.\n",
    "#                        Constant term can be placed in the left hand side.\n",
    "#                        Example: 1==1 is valid and returns 1.\n",
    "# whenever we have to assign some value to a variable will use assignment operator and when will have to perform some type\n",
    "# of comparison will use ==(equal to)"
   ]
  },
  {
   "cell_type": "code",
   "execution_count": 17,
   "metadata": {},
   "outputs": [],
   "source": [
    "#7)Identify the three blocks in this code:\n",
    "\n",
    "#spam = 0\n",
    "#if spam == 10:\n",
    "#    print('eggs')\n",
    "\n",
    "#if spam > 5:\n",
    "#    print('bacon')\n",
    "\n",
    "#else:\n",
    "#    print('ham')\n",
    "#    print('spam')\n",
    "#    print('spam')\n",
    "\n",
    "#Ans) = 'ham', 'spam', 'spam'\n"
   ]
  },
  {
   "cell_type": "code",
   "execution_count": 18,
   "metadata": {},
   "outputs": [
    {
     "name": "stdout",
     "output_type": "stream",
     "text": [
      "Hello\n"
     ]
    }
   ],
   "source": [
    "#8. Write code that prints Hello if 1 is stored in spam, prints Howdy if 2 is stored in spam, and prints Greetings! if anything else is stored in spam.\n",
    "# Ans)\n",
    "spam = 1\n",
    "\n",
    "if spam==1:\n",
    "    print('Hello')\n",
    "elif spam==2:\n",
    "    print('Howdy')\n",
    "else:\n",
    "    print('Greetings')"
   ]
  },
  {
   "cell_type": "code",
   "execution_count": 19,
   "metadata": {},
   "outputs": [],
   "source": [
    "#9) 9.If your programme is stuck in an endless loop, what keys you’ll press?\n",
    "\n",
    "#Ans) Ctrl + c should be pressed for coming out of endless loop."
   ]
  },
  {
   "cell_type": "code",
   "execution_count": 20,
   "metadata": {},
   "outputs": [],
   "source": [
    "#10) 10. How can you tell the difference between break and continue?\n",
    "\n",
    "# Ans) The break and continue both are used to skip the iteration of a loop. \n",
    "#These keywords are helpful in controlling the flow of the program.\n",
    "# Dirrence is below\n",
    "#    The break statement terminates the whole iteration of a loop whereas continue skips the current iteration.\n",
    "#    The break statement terminates the whole loop early whereas the continue brings the next iteration early.\n",
    " #   In a loop for switch, break acts as terminator for case only whereas continue 2 acts as terminator for case and skips the current iteration of loop."
   ]
  },
  {
   "cell_type": "code",
   "execution_count": 21,
   "metadata": {},
   "outputs": [],
   "source": [
    "#11) 11. In a for loop, what is the difference between range(10), range(0, 10), and range(0, 10, 1)?\n",
    "\n",
    "#Ans rand(10) - the count start from 0 till 9.\n",
    "# range(0,19) - The count will start from 0 till 9\n",
    "#range(0,10,1) - The count will start from 0 with stepsize of 1 and go till 9\n",
    "# in all the three cases the  ans will be same and i believe there is no major diff expect the fact these are diff way of using \n",
    "# range function"
   ]
  },
  {
   "cell_type": "code",
   "execution_count": 24,
   "metadata": {},
   "outputs": [
    {
     "name": "stdout",
     "output_type": "stream",
     "text": [
      "0 1 2 3 4 5 6 7 8 9 "
     ]
    }
   ],
   "source": [
    "for i in range(10):\n",
    "    print(i, end= ' ')"
   ]
  },
  {
   "cell_type": "code",
   "execution_count": 25,
   "metadata": {},
   "outputs": [
    {
     "name": "stdout",
     "output_type": "stream",
     "text": [
      "0 1 2 3 4 5 6 7 8 9 "
     ]
    }
   ],
   "source": [
    "for i in range(0,10):\n",
    "    print(i, end= ' ')"
   ]
  },
  {
   "cell_type": "code",
   "execution_count": 26,
   "metadata": {},
   "outputs": [
    {
     "name": "stdout",
     "output_type": "stream",
     "text": [
      "0 1 2 3 4 5 6 7 8 9 "
     ]
    }
   ],
   "source": [
    "for i in range(0,10,1):\n",
    "    print(i, end= ' ')"
   ]
  },
  {
   "cell_type": "code",
   "execution_count": 33,
   "metadata": {},
   "outputs": [
    {
     "name": "stdout",
     "output_type": "stream",
     "text": [
      "1 2 3 4 5 6 7 8 9 10 1 2 3 4 5 6 7 8 9 10 "
     ]
    }
   ],
   "source": [
    "# 12. Write a short program that prints the numbers 1 to 10 using a for loop. \n",
    "#Then write an equivalent program that prints the numbers 1 to 10 using a while loop.\n",
    "\n",
    "#Ans) using for loop\n",
    "for i in range(1,11):\n",
    "    print(i, end=' ')\n",
    " \n",
    "i = 1\n",
    "while i<11:\n",
    "    print(i, end=' ')\n",
    "    i= i+1\n",
    "    \n",
    "    "
   ]
  },
  {
   "cell_type": "code",
   "execution_count": 34,
   "metadata": {},
   "outputs": [],
   "source": [
    "while i<11:\n",
    "    print('iteration using while loop=',i)\n",
    "    i= i+1"
   ]
  },
  {
   "cell_type": "code",
   "execution_count": 35,
   "metadata": {},
   "outputs": [],
   "source": [
    "# 13)  If you had a function named bacon() inside a module named spam, how would you call it after importing spam?\n",
    "\n",
    "#Ans) spam.bacon() "
   ]
  },
  {
   "cell_type": "code",
   "execution_count": null,
   "metadata": {},
   "outputs": [],
   "source": []
  }
 ],
 "metadata": {
  "kernelspec": {
   "display_name": "Python 3",
   "language": "python",
   "name": "python3"
  },
  "language_info": {
   "codemirror_mode": {
    "name": "ipython",
    "version": 3
   },
   "file_extension": ".py",
   "mimetype": "text/x-python",
   "name": "python",
   "nbconvert_exporter": "python",
   "pygments_lexer": "ipython3",
   "version": "3.8.5"
  }
 },
 "nbformat": 4,
 "nbformat_minor": 4
}
