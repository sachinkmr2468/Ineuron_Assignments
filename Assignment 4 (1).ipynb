{
 "cells": [
  {
   "cell_type": "markdown",
   "metadata": {},
   "source": [
    "# Assignment 4"
   ]
  },
  {
   "cell_type": "code",
   "execution_count": 1,
   "metadata": {},
   "outputs": [],
   "source": [
    "#1) What exactly is []?\n",
    "\n",
    "#Ans [] square brackets used for creating list in python and its a empty list"
   ]
  },
  {
   "cell_type": "code",
   "execution_count": 2,
   "metadata": {},
   "outputs": [
    {
     "name": "stdout",
     "output_type": "stream",
     "text": [
      "[2, 4, 'hello', 7, 10]\n"
     ]
    }
   ],
   "source": [
    "#2) In a list of values stored in a variable called spam, how would you assign the value 'hello' as the third value? \n",
    "#(Assume [2, 4, 6, 8, 10] are in spam.)\n",
    "\n",
    "#Ans - For assigning 'hello' as the third value indexing technique is used as below\n",
    "\n",
    "spam = [2,4,6,7,10]\n",
    "spam[2] = 'hello'\n",
    "print(spam)"
   ]
  },
  {
   "cell_type": "code",
   "execution_count": 3,
   "metadata": {},
   "outputs": [],
   "source": [
    "#3) Let's pretend the spam includes the list ['a', 'b', 'c', 'd'] for the next three queries.\n",
    "\n",
    "#a What is the value of spam[int(int('3' * 2) / 11)]?\n",
    "#ans 'd'\n",
    "\n",
    "#b)What is the value of spam[-1]?\n",
    "#ans) 'd'\n",
    "\n",
    "#c)What is the value of spam[:2]?\n",
    "#ans) ['a','b']"
   ]
  },
  {
   "cell_type": "code",
   "execution_count": 18,
   "metadata": {},
   "outputs": [],
   "source": [
    "# Let's pretend bacon has the list [3.14, 'cat,' 11, 'cat,' True] for the next three questions.\n",
    "#a)What is the value of bacon.index('cat')?\n",
    "#ans 1\n",
    "\n",
    "#bHow does bacon.append(99) change the look of the list value in bacon?\n",
    "#Ans) bacon.append(99) will add 99 at the end of the list from right side\n",
    "\n",
    "#c)How does bacon.remove('cat') change the look of the list in bacon?\n",
    "#ans) first occurence of'cat' will be removed and list will beacome - [3.14,11,'cat','True']\n",
    "\n",
    "\n"
   ]
  },
  {
   "cell_type": "code",
   "execution_count": 19,
   "metadata": {},
   "outputs": [],
   "source": [
    "# What are the list concatenation and list replication operators?\n",
    "\n",
    "# ans) The operator for list concatenation is +, while the operator for replication is *.\n",
    "# also for concatenation one can use append() using for loop or extend() method as well."
   ]
  },
  {
   "cell_type": "code",
   "execution_count": null,
   "metadata": {},
   "outputs": [],
   "source": [
    "# What is difference between the list methods append() and insert()?\n",
    "\n",
    "#Ans) append() method is use to add items at the end of the list while insert() method\n",
    "#use to add items at some specific positon.\n",
    "\n"
   ]
  },
  {
   "cell_type": "code",
   "execution_count": 21,
   "metadata": {},
   "outputs": [],
   "source": [
    "# What are the two methods for removing items from a list?\n",
    "\n",
    "#Ans) The 2 methods for removing items from a list are:\n",
    "# remove()-Removes the item with the specified value\n",
    "#Pop()- Removes the element at the specified position"
   ]
  },
  {
   "cell_type": "code",
   "execution_count": null,
   "metadata": {},
   "outputs": [],
   "source": [
    "# Describe how list values and string values are identical.\n",
    "\n",
    "#Ans) A list is a sequential collection of Python data values, where each value is identified by an index.\n",
    "#The values that make up a list are called its elements. Lists are similar to strings, \n",
    "#which are ordered collections of characters, \n",
    "#except that the elements of a list can have any type and for any one list, the items can be of different types."
   ]
  },
  {
   "cell_type": "code",
   "execution_count": 22,
   "metadata": {},
   "outputs": [],
   "source": [
    "# What's the difference between tuples and lists?\n",
    "\n",
    "#Ans)Lists vs tuple\n",
    "\n",
    "# List - Lists are mutable\n",
    "#Implication of iterations is Time-consuming\n",
    "#Lists consume more memory\n",
    "#The list is better for performing operations, such as insertion and deletion.\n",
    "#Lists have several built-in methods\n",
    "\n",
    "#tuple- Tuples are immutable\n",
    "#The implication of iterations is comparatively Faster\n",
    "#Tuple consume less memory as compared to the list\n",
    "#The implication of iterations is comparatively Faster\n",
    "#Tuple does not have many built-in methods."
   ]
  },
  {
   "cell_type": "code",
   "execution_count": 25,
   "metadata": {},
   "outputs": [],
   "source": [
    "# How do you type a tuple value that only contains the integer 42?\n",
    "\n",
    "#Ans)(42,) (The trailing comma is mandatory.)"
   ]
  },
  {
   "cell_type": "code",
   "execution_count": 26,
   "metadata": {},
   "outputs": [],
   "source": [
    "#How do you get a list value's tuple form? How do you get a tuple value's list form?\n",
    "\n",
    "#Ans)The tuple() and list() functions, respectively"
   ]
  },
  {
   "cell_type": "code",
   "execution_count": 27,
   "metadata": {},
   "outputs": [],
   "source": [
    "#  Variables that \"contain\" list values are not necessarily lists themselves. Instead, what do they contain?\n",
    "\n",
    "#Ans) They contain references to list values."
   ]
  },
  {
   "cell_type": "code",
   "execution_count": 29,
   "metadata": {},
   "outputs": [],
   "source": [
    "# How do you distinguish between copy.copy() and copy.deepcopy()?\n",
    "\n",
    "#Ans) The copy.copy() function will do a shallow copy of a list, \n",
    "#while the copy.deepcopy() function will do a deep copy of a list. \n",
    "#That is, only copy.deepcopy() will duplicate any lists inside the list."
   ]
  },
  {
   "cell_type": "code",
   "execution_count": null,
   "metadata": {},
   "outputs": [],
   "source": []
  }
 ],
 "metadata": {
  "kernelspec": {
   "display_name": "Python 3",
   "language": "python",
   "name": "python3"
  },
  "language_info": {
   "codemirror_mode": {
    "name": "ipython",
    "version": 3
   },
   "file_extension": ".py",
   "mimetype": "text/x-python",
   "name": "python",
   "nbconvert_exporter": "python",
   "pygments_lexer": "ipython3",
   "version": "3.8.5"
  }
 },
 "nbformat": 4,
 "nbformat_minor": 4
}
