{
 "cells": [
  {
   "cell_type": "code",
   "execution_count": 1,
   "metadata": {},
   "outputs": [],
   "source": [
    "#1. What are escape characters, and how do you use them?\n",
    "\n",
    "#Ans Escape characters represent characters in string values that would otherwise be difficult or impossible to type into code.\n",
    "#In Python strings, the backslash \"\\\" is a special character, also called the \"escape\" character. \n",
    "#It is used in representing certain whitespace characters: \"\\t\" is a tab, \"\\n\" is a newline, and \"\\r\" is a carriage return."
   ]
  },
  {
   "cell_type": "code",
   "execution_count": 2,
   "metadata": {},
   "outputs": [],
   "source": [
    "#2.What do the escape characters n and t stand for?\n",
    "\n",
    "#Ans \\n is a newline; \\t is a tab."
   ]
  },
  {
   "cell_type": "code",
   "execution_count": 3,
   "metadata": {},
   "outputs": [],
   "source": [
    "#3. What is the way to include backslash characters in a string?\n",
    "\n",
    "#Ans syntax \"\\\\\" within the string literal is used to represent a single backslash."
   ]
  },
  {
   "cell_type": "code",
   "execution_count": 4,
   "metadata": {},
   "outputs": [],
   "source": [
    "#4.  The string \"Howl's Moving Castle\" is a correct value. Why isn't the single quote character in the word Howl's not escaped a problem?\n",
    "\n",
    "#Ans The single quote in Howl's is fine because here double quotes are used to mark the beginning and end of the string."
   ]
  },
  {
   "cell_type": "code",
   "execution_count": 5,
   "metadata": {},
   "outputs": [],
   "source": [
    "#5. How do you write a string of newlines if you don't want to use the n character?\n",
    "\n",
    "#Ans Multiline strings allows to use newlines in strings without the \\n escape character."
   ]
  },
  {
   "cell_type": "code",
   "execution_count": 11,
   "metadata": {},
   "outputs": [],
   "source": [
    "#6.What are the values of the given expressions?\n",
    "#'Hello, world!'[1]\n",
    "#'Hello, world!'[0:5]\n",
    "#'Hello, world!'[:5]\n",
    "#'Hello, world!'[3:]\n",
    "\n",
    "\n",
    "#Ans 'Hello, world!'[1] - 'e'\n",
    "#'Hello, world!'[0:5] - 'Hello'\n",
    "#'Hello, world!'[:5] -'Hello'\n",
    "#'Hello, world!'[3:] - 'lo, world!'\n"
   ]
  },
  {
   "cell_type": "code",
   "execution_count": 16,
   "metadata": {},
   "outputs": [],
   "source": [
    "#7. What are the values of the following expressions?\n",
    "#'Hello'.upper()\n",
    "#'Hello'.upper().isupper()\n",
    "#'Hello'.upper().lower()\n",
    "\n",
    "#Ans 'Hello'.upper() - 'HELLO'\n",
    "#'Hello'.upper().isupper() - True\n",
    "#'Hello'.upper().lower() - 'hello'\n"
   ]
  },
  {
   "cell_type": "code",
   "execution_count": 18,
   "metadata": {},
   "outputs": [],
   "source": [
    "#8. What are the values of the following expressions?\n",
    "#'Remember, remember, the fifth of July.'.split()\n",
    "#'-'.join('There can only one.'.split())\n",
    "\n",
    "#Ans - 'There-can-only-one.'"
   ]
  },
  {
   "cell_type": "code",
   "execution_count": 19,
   "metadata": {},
   "outputs": [],
   "source": [
    "#9.What are the methods for right-justifying, left-justifying, and centering a string?\n",
    "\n",
    "#Ans The rjust(), ljust(), and center() string methods, respectively are used for  right-justifying, left-justifying, and centering a string\n"
   ]
  },
  {
   "cell_type": "code",
   "execution_count": null,
   "metadata": {},
   "outputs": [],
   "source": [
    "#10. What is the best way to remove whitespace characters from the start or end?\n",
    "\n",
    "#Ans we can use the trim() method on our string to remove whitespace from the beginning and end of it. It returns a new string"
   ]
  }
 ],
 "metadata": {
  "kernelspec": {
   "display_name": "Python 3",
   "language": "python",
   "name": "python3"
  },
  "language_info": {
   "codemirror_mode": {
    "name": "ipython",
    "version": 3
   },
   "file_extension": ".py",
   "mimetype": "text/x-python",
   "name": "python",
   "nbconvert_exporter": "python",
   "pygments_lexer": "ipython3",
   "version": "3.8.5"
  }
 },
 "nbformat": 4,
 "nbformat_minor": 4
}
