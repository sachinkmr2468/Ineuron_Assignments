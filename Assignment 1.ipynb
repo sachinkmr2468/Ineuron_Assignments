{
 "cells": [
  {
   "cell_type": "markdown",
   "metadata": {},
   "source": [
    "# Assignment 1"
   ]
  },
  {
   "cell_type": "code",
   "execution_count": 1,
   "metadata": {},
   "outputs": [],
   "source": [
    "#1.In the below elements which of them are values or an expression?\n",
    "#eg:- values can be integer or string and expressions will be mathematical operators.\n",
    "\n",
    "#ans) * is an expression\n",
    "# 'hello' is a value\n",
    "# -87.8 is a value\n",
    "# - is an expression\n",
    "# / is an expression\n",
    "# + is an expression\n",
    "# 6 is a value"
   ]
  },
  {
   "cell_type": "code",
   "execution_count": 2,
   "metadata": {},
   "outputs": [],
   "source": [
    "#2) What is the difference between string and variable?\n",
    "\n",
    "#Ans) Variable is a place holder in memory which we use to story values/data while on the otherhand string is\n",
    "# is an immutable sequence data type. It is the sequence of Unicode characters wrapped inside single, double, or triple quotes.\n"
   ]
  },
  {
   "cell_type": "code",
   "execution_count": 3,
   "metadata": {},
   "outputs": [],
   "source": [
    "#3) Describe three different data types.\n",
    "\n",
    "# Ans) - The three different data types are list tuples and dictionary\n",
    "# List - The list is a most versatile datatype available in Python which is mutable and can be written as a list of comma-separated values (items) between square brackets\n",
    "# Important thing about a list is that items in a list need not be of the same type.\n",
    "# Tuples - A tuple is a collection of objects which ordered and immutable. Tuples are written with round brackets.\n",
    "# Dictionary - A dictionary is a collection which is ordered*, changeable and does not allow duplicates.Dictionaries are used to store data values in key:value pairs.\n",
    "#Dictionaries are written with curly brackets, and have keys and values:"
   ]
  },
  {
   "cell_type": "code",
   "execution_count": 4,
   "metadata": {},
   "outputs": [],
   "source": [
    "#4) What is an expression made up of? What do all expressions do?\n",
    "\n",
    "#Ans An expression is a combination of values, variables, operators, and calls to functions.\n",
    "#In Python, operators are special symbols that designate that some sort of computation should be performed.\n",
    "#The values that an operator acts on are called operands. A sequence of operands and operators, like a + b - 5 , is called an expression. \n",
    "#Python supports many operators for combining data objects into expressions."
   ]
  },
  {
   "cell_type": "code",
   "execution_count": 5,
   "metadata": {},
   "outputs": [],
   "source": [
    "#5) 5. This assignment statements, like spam = 10. What is the difference between an expression and a statement?\n",
    "#Ans) #A statement does something. Statements represent an action or command e.g print statements, assignment statements. \n",
    "#Expression is a combination of variables, operations and values that yields a result value. \n",
    "#An expression is something that can be reduced to a value, for example \"1+3\" or \"foo = 1+3\"\n",
    "# Examples Of Python Expressions: “Hello” + “World”, 4 + 5 etc\n",
    "# Examples Of Python Statements: Assignment statements, conditional branching, loops, classes, import, def, try, except, pass, del etc"
   ]
  },
  {
   "cell_type": "code",
   "execution_count": 6,
   "metadata": {},
   "outputs": [],
   "source": [
    "#6. After running the following code, what does the variable bacon contain?\n",
    "#bacon = 22\n",
    "#bacon + 1\n",
    "# Ans) - bacon contain = 23\n"
   ]
  },
  {
   "cell_type": "code",
   "execution_count": 10,
   "metadata": {},
   "outputs": [],
   "source": [
    "# 7. What should the values of the following two terms be?\n",
    "# 'spam' + 'spamspam'\n",
    "#'spam' * 3\n",
    "# Ans) spam' + 'spamspam' = 'spamspamspam'\n",
    "# spam' * 3 = 'spamspamspam'\n",
    "\n"
   ]
  },
  {
   "cell_type": "code",
   "execution_count": 11,
   "metadata": {},
   "outputs": [],
   "source": [
    "#8. Why is eggs a valid variable name while 100 is invalid?\n",
    "# Ans) eggs a valid variable name while 100 is invalid because variable name can not start with a number that's why 100 is invalid\n",
    "#while eggs is valid variable."
   ]
  },
  {
   "cell_type": "code",
   "execution_count": 12,
   "metadata": {},
   "outputs": [],
   "source": [
    "#9. What three functions can be used to get the integer, floating-point number, or string version of a value?\n",
    "#Ans) The int() , float() , and str( ) functions can be used to get the integer, floating-point number, or string version of a value"
   ]
  },
  {
   "cell_type": "code",
   "execution_count": 14,
   "metadata": {},
   "outputs": [
    {
     "data": {
      "text/plain": [
       "'I have eaten 99 burritos.'"
      ]
     },
     "execution_count": 14,
     "metadata": {},
     "output_type": "execute_result"
    }
   ],
   "source": [
    "#10) 10. Why does this expression cause an error? How can you fix it?\n",
    "# 'I have eaten ' + 99 + ' burritos.'\n",
    "\n",
    "# Ans) In python we cant add string and integer number together, to aviod the issue we can put 99 under ' '.\n",
    "'I have eaten ' + '99' + ' burritos.'"
   ]
  },
  {
   "cell_type": "code",
   "execution_count": null,
   "metadata": {},
   "outputs": [],
   "source": []
  }
 ],
 "metadata": {
  "kernelspec": {
   "display_name": "Python 3",
   "language": "python",
   "name": "python3"
  },
  "language_info": {
   "codemirror_mode": {
    "name": "ipython",
    "version": 3
   },
   "file_extension": ".py",
   "mimetype": "text/x-python",
   "name": "python",
   "nbconvert_exporter": "python",
   "pygments_lexer": "ipython3",
   "version": "3.8.5"
  }
 },
 "nbformat": 4,
 "nbformat_minor": 4
}
